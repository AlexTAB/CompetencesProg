{
 "cells": [
  {
   "cell_type": "markdown",
   "metadata": {},
   "source": [
    "Pratique 2021 par Alexandre Tabot du livre Le Marchine Learning avec Python\n"
   ]
  },
  {
   "cell_type": "markdown",
   "metadata": {},
   "source": [
    "note equivalance clavier mac windows sur cet ordinateur mac romain is ds\n",
    "\n",
    "= : touche tiret\n",
    "crochet ouvert : touche Alt Maj 5\n",
    "crochet ferme : touche Alt Maj point d'interrogation\n",
    "\\ : touche Alt Maj /\n",
    "\\ : touche Alt Maj :\n",
    "diese touche Maj touche o souligne"
   ]
  },
  {
   "cell_type": "markdown",
   "metadata": {},
   "source": [
    "Marque Page\n",
    "Date 04/01/2021\n",
    "Chapitre 01\n",
    "Page 009\n"
   ]
  },
  {
   "cell_type": "code",
   "execution_count": 8,
   "metadata": {},
   "outputs": [],
   "source": [
    "#importation des librairie\n",
    "import numpy as np\n",
    "\n",
    "from scipy import sparse"
   ]
  },
  {
   "cell_type": "code",
   "execution_count": 9,
   "metadata": {},
   "outputs": [
    {
     "name": "stdout",
     "output_type": "stream",
     "text": [
      "x:\n",
      "{} [[1 2 3]\n",
      " [4 5 6]]\n",
      "Numpy array :\n",
      "{} [[1. 0. 0. 0.]\n",
      " [0. 1. 0. 0.]\n",
      " [0. 0. 1. 0.]\n",
      " [0. 0. 0. 1.]]\n"
     ]
    }
   ],
   "source": [
    "#Page 9\n",
    "x = np.array([[1 , 2 , 3] , [4 , 5 , 6]])\n",
    "print (\"x:\\n{}\", format(x))\n",
    "\n",
    "eye = np.eye(4)\n",
    "print(\"Numpy array :\\n{}\", format(eye))\n"
   ]
  },
  {
   "cell_type": "code",
   "execution_count": 11,
   "metadata": {},
   "outputs": [
    {
     "name": "stdout",
     "output_type": "stream",
     "text": [
      "\n",
      " SciPy sparse CSR matrix :\n",
      "{}   (0, 0)\t1.0\n",
      "  (1, 1)\t1.0\n",
      "  (2, 2)\t1.0\n",
      "  (3, 3)\t1.0\n"
     ]
    }
   ],
   "source": [
    "#Pzge 10\n",
    "sparse_matrix = sparse.csr_matrix(eye)\n",
    "print(\"\\n SciPy sparse CSR matrix :\\n{}\", format(sparse_matrix))"
   ]
  },
  {
   "cell_type": "markdown",
   "metadata": {},
   "source": [
    "fin prog"
   ]
  }
 ],
 "metadata": {
  "kernelspec": {
   "display_name": "Python 3",
   "language": "python",
   "name": "python3"
  },
  "language_info": {
   "codemirror_mode": {
    "name": "ipython",
    "version": 3
   },
   "file_extension": ".py",
   "mimetype": "text/x-python",
   "name": "python",
   "nbconvert_exporter": "python",
   "pygments_lexer": "ipython3",
   "version": "3.7.0"
  }
 },
 "nbformat": 4,
 "nbformat_minor": 2
}
